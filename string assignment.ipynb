{
 "cells": [
  {
   "cell_type": "markdown",
   "id": "2167644e-0794-4766-b7c8-f581fe819261",
   "metadata": {},
   "source": [
    "## Q.1 find the length of given string(given by user)without using len() function\n"
   ]
  },
  {
   "cell_type": "code",
   "execution_count": 5,
   "id": "6a971767-8770-491a-9bb0-9e599976f39f",
   "metadata": {},
   "outputs": [
    {
     "name": "stdin",
     "output_type": "stream",
     "text": [
      "enter your string my name is anjali\n"
     ]
    },
    {
     "name": "stdout",
     "output_type": "stream",
     "text": [
      "length of string is 17\n"
     ]
    }
   ],
   "source": [
    "str1=input(\"enter your string\")\n",
    "count=0\n",
    "for i in str1:\n",
    "    count +=1\n",
    "print(\"length of string is\",count)\n",
    "      "
   ]
  },
  {
   "cell_type": "markdown",
   "id": "8a482282-c5e9-4811-9093-4ac3e88779fa",
   "metadata": {},
   "source": [
    "## Q.2 Extract userid from given mailid eg. if the mail is chetan24jagtap@gmail.com , them user name should be \"chetan24jagtap\""
   ]
  },
  {
   "cell_type": "code",
   "execution_count": 8,
   "id": "625fa60b-3045-48dc-99e1-e4426f1e9976",
   "metadata": {},
   "outputs": [
    {
     "name": "stdin",
     "output_type": "stream",
     "text": [
      "enter your mail_id chetan24jagtap@gmail.com\n"
     ]
    },
    {
     "name": "stdout",
     "output_type": "stream",
     "text": [
      "chetan24jagtap\n"
     ]
    }
   ],
   "source": [
    "mail_id=input(\"enter your mail_id\")\n",
    "poss=mail_id.index(\"@\")\n",
    "print(mail_id[0:poss])"
   ]
  },
  {
   "cell_type": "markdown",
   "id": "146bbc30-7a10-474b-8115-51c07f92576d",
   "metadata": {},
   "source": [
    "## Q.3 count the frequency of particular character in provided string e.g \"hello how are you\" is the string, the frequency of\"h\" in this string is 2, without using count function"
   ]
  },
  {
   "cell_type": "code",
   "execution_count": 17,
   "id": "31033e7b-4fe6-49b1-9961-ea5472393bfa",
   "metadata": {},
   "outputs": [
    {
     "name": "stdin",
     "output_type": "stream",
     "text": [
      "enter your string hello anjali\n",
      "what would you like to search a\n"
     ]
    },
    {
     "name": "stdout",
     "output_type": "stream",
     "text": [
      "frequency of your char is  2\n"
     ]
    }
   ],
   "source": [
    "s= input(\"enter your string\")\n",
    "term=input(\"what would you like to search\")\n",
    "counter=0\n",
    "for i in s:\n",
    "    if i == term:\n",
    "        counter += 1\n",
    "print(\"frequency of your char is \",counter)"
   ]
  },
  {
   "cell_type": "markdown",
   "id": "251b3057-6f90-4aed-bce4-107a321a05ab",
   "metadata": {},
   "source": [
    "## Q.4 WAP which can remove a particular character from the string"
   ]
  },
  {
   "cell_type": "code",
   "execution_count": 28,
   "id": "5e0bdf66-7cff-460e-9391-b3f80082af2e",
   "metadata": {},
   "outputs": [
    {
     "name": "stdin",
     "output_type": "stream",
     "text": [
      "enter your string ie am anjalie\n",
      "what you want to remove e\n"
     ]
    },
    {
     "name": "stdout",
     "output_type": "stream",
     "text": [
      "i am anjali\n"
     ]
    }
   ],
   "source": [
    "s=input(\"enter your string\")\n",
    "term=input(\"what you want to remove\")\n",
    "result=\"\"\n",
    "for i in s:\n",
    "    if i!=term:\n",
    "        result=result+i\n",
    "print(result)"
   ]
  },
  {
   "cell_type": "markdown",
   "id": "b5c2593d-d882-4b1c-8118-4eecd7b3c16a",
   "metadata": {},
   "source": [
    "### Q 5 Write a program that can check whether a given string is palindrome or not. # abba # malayalam"
   ]
  },
  {
   "cell_type": "code",
   "execution_count": 13,
   "id": "0366ee0e-d5b4-4090-84b2-41056f1c02ab",
   "metadata": {},
   "outputs": [
    {
     "name": "stdin",
     "output_type": "stream",
     "text": [
      " malayalam\n"
     ]
    },
    {
     "name": "stdout",
     "output_type": "stream",
     "text": [
      "the given string is palindrome\n"
     ]
    }
   ],
   "source": [
    "string = input()\n",
    "reverse =\"\"\n",
    "for i in string :\n",
    "    reverse = i + reverse\n",
    "if string ==reverse:\n",
    "    print(\"the given string is palindrome\")\n",
    "else:\n",
    "    print(\"the given string is not a palindrome\")"
   ]
  },
  {
   "cell_type": "markdown",
   "id": "203e93a5-a58b-44e7-be55-900d7e33f315",
   "metadata": {},
   "source": [
    "### Q.6  Write a program to count the number of words in a string without split()"
   ]
  },
  {
   "cell_type": "code",
   "execution_count": 30,
   "id": "67202ec7-e4e2-4e19-b1b1-c58e93f12c8b",
   "metadata": {},
   "outputs": [
    {
     "name": "stdin",
     "output_type": "stream",
     "text": [
      " i am\n"
     ]
    },
    {
     "name": "stdout",
     "output_type": "stream",
     "text": [
      "numbers of words in the string are 2\n"
     ]
    }
   ],
   "source": [
    "string = input()\n",
    "length = len(string)\n",
    "list =[]\n",
    "word =\"\"\n",
    "for i in string:\n",
    "    last_word = string[length-1]\n",
    "    if i == \" \":\n",
    "        list.append(word)\n",
    "        word = \"\"\n",
    "    elif i == last_word:\n",
    "        word = word + last_word\n",
    "        list.append(word)\n",
    "    else:\n",
    "        word += i\n",
    "print(\"numbers of words in the string are\", len(list))\n",
    "        "
   ]
  },
  {
   "cell_type": "markdown",
   "id": "07072f9c-6ccf-42cd-9fec-650a523fffef",
   "metadata": {},
   "source": [
    "### Q 7 Write a python program to convert a string to title case without using the title()"
   ]
  },
  {
   "cell_type": "code",
   "execution_count": 35,
   "id": "546ff52b-bd9b-49cd-9969-ef09d8c70dd6",
   "metadata": {},
   "outputs": [
    {
     "name": "stdin",
     "output_type": "stream",
     "text": [
      " hello world\n"
     ]
    },
    {
     "name": "stdout",
     "output_type": "stream",
     "text": [
      "Hello Wworld\n"
     ]
    }
   ],
   "source": [
    "string = input()\n",
    "length = len(string)\n",
    "result = \"\"\n",
    "for i in range(length):\n",
    "    char = string[i]\n",
    "    if i==0:\n",
    "        result = result + char.upper()\n",
    "    elif char ==\" \":\n",
    "        char = string[i+1]\n",
    "        result = result+\" \" + char.upper()\n",
    "        i = i+1\n",
    "    else:\n",
    "        result = result + char\n",
    "print(result)"
   ]
  },
  {
   "cell_type": "code",
   "execution_count": null,
   "id": "c38475ea-46fd-4369-84d3-c4fd15381a79",
   "metadata": {},
   "outputs": [],
   "source": []
  }
 ],
 "metadata": {
  "kernelspec": {
   "display_name": "Python 3 (ipykernel)",
   "language": "python",
   "name": "python3"
  },
  "language_info": {
   "codemirror_mode": {
    "name": "ipython",
    "version": 3
   },
   "file_extension": ".py",
   "mimetype": "text/x-python",
   "name": "python",
   "nbconvert_exporter": "python",
   "pygments_lexer": "ipython3",
   "version": "3.11.7"
  }
 },
 "nbformat": 4,
 "nbformat_minor": 5
}
