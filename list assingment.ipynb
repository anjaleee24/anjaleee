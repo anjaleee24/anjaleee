{
 "cells": [
  {
   "cell_type": "markdown",
   "id": "9aba179f-17ef-414a-919c-e428f61a378e",
   "metadata": {},
   "source": [
    "## Q.1 create 2 list from given list where , 1st list will contain all the odd numbers from the original list and the 2nd one will contain all the even numbers\n",
    "l=[1,2,3,4,5,6]"
   ]
  },
  {
   "cell_type": "code",
   "execution_count": 1,
   "id": "e752f278-4fa4-47d9-acf5-3ddc482711b3",
   "metadata": {},
   "outputs": [
    {
     "name": "stdout",
     "output_type": "stream",
     "text": [
      "Even lists: [2, 62, 84]\n",
      "Odd lists: [5, 13, 17, 51, 73, 95]\n"
     ]
    }
   ],
   "source": [
    "def Split(L):\n",
    "    even_list = []\n",
    "    odd_list = []\n",
    "    for i in L:\n",
    "        if (i % 2 == 0):\n",
    "            even_list.append(i)\n",
    "        else:\n",
    "            odd_list.append(i)\n",
    "    print(\"Even lists:\", even_list)\n",
    "    print(\"Odd lists:\", odd_list)\n",
    "L = [2, 5, 13, 17, 51, 62, 73, 84, 95]\n",
    "Split(L)"
   ]
  },
  {
   "cell_type": "markdown",
   "id": "5ae1dd28-53bb-4a5e-a0bb-c15440d8ab47",
   "metadata": {},
   "source": [
    "## Q.2 how to take list as input from user"
   ]
  },
  {
   "cell_type": "code",
   "execution_count": 1,
   "id": "cbb59f5c-8250-4723-8ed8-bb1637545cef",
   "metadata": {},
   "outputs": [
    {
     "name": "stdin",
     "output_type": "stream",
     "text": [
      "number of input:  1,2,3,4\n"
     ]
    },
    {
     "ename": "ValueError",
     "evalue": "invalid literal for int() with base 10: '1,2,3,4'",
     "output_type": "error",
     "traceback": [
      "\u001b[1;31m---------------------------------------------------------------------------\u001b[0m",
      "\u001b[1;31mValueError\u001b[0m                                Traceback (most recent call last)",
      "Cell \u001b[1;32mIn[1], line 1\u001b[0m\n\u001b[1;32m----> 1\u001b[0m number \u001b[38;5;241m=\u001b[39m \u001b[38;5;28mint\u001b[39m(\u001b[38;5;28minput\u001b[39m(\u001b[38;5;124m\"\u001b[39m\u001b[38;5;124mnumber of input: \u001b[39m\u001b[38;5;124m\"\u001b[39m))\n\u001b[0;32m      2\u001b[0m \u001b[38;5;28mlist\u001b[39m \u001b[38;5;241m=\u001b[39m []\n\u001b[0;32m      3\u001b[0m \u001b[38;5;28;01mfor\u001b[39;00m i \u001b[38;5;129;01min\u001b[39;00m \u001b[38;5;28mrange\u001b[39m(number):\n",
      "\u001b[1;31mValueError\u001b[0m: invalid literal for int() with base 10: '1,2,3,4'"
     ]
    }
   ],
   "source": [
    "number = int(input(\"number of input: \"))\n",
    "list = []\n",
    "for i in range(number):\n",
    "    input_val = input()\n",
    "    list.append(input_val)\n",
    "print(list)    "
   ]
  },
  {
   "cell_type": "markdown",
   "id": "015e13b4-2ca7-457d-a6f5-715f7c09a623",
   "metadata": {},
   "source": [
    "### Q.3 write a program to merge 2 list without using the + operator\n",
    "l1 = [1,2,3,4]\n",
    "l2 = [5,6,7,8]"
   ]
  },
  {
   "cell_type": "code",
   "execution_count": 38,
   "id": "4cce18b8-cc1e-4ae8-beb9-7756a5c31821",
   "metadata": {},
   "outputs": [
    {
     "name": "stdout",
     "output_type": "stream",
     "text": [
      "['15', '26', '37', '48']\n"
     ]
    }
   ],
   "source": [
    "L1 = [1,2,3,4]\n",
    "L2 = [5,6,7,8]\n",
    "\n",
    "result = []\n",
    "for i,j in zip(L1,L2):\n",
    "    result.append(str(i)+str(j))\n",
    "        \n",
    "print(result)"
   ]
  },
  {
   "cell_type": "markdown",
   "id": "adfbc6f1-e3c8-40db-9d76-3487ff8da27a",
   "metadata": {},
   "source": [
    "### Q 4 Write a program to replace an item with a different item if found in the list \n",
    "L = [1,2,3,4,5,3]\n",
    " replace 3 with 300"
   ]
  },
  {
   "cell_type": "code",
   "execution_count": 45,
   "id": "17bdd40d-c4f2-4614-84b4-8172e262065b",
   "metadata": {},
   "outputs": [
    {
     "name": "stdout",
     "output_type": "stream",
     "text": [
      "[1, 2, 300, 4, 5, 300]\n"
     ]
    }
   ],
   "source": [
    "L= [1,2,3,4,5,3]\n",
    "for i in range(len(L)):\n",
    "    if L[i] == 3:\n",
    "        L[i] = 300\n",
    "print(L)"
   ]
  },
  {
   "cell_type": "markdown",
   "id": "8eecb3f8-9123-4b1d-8df4-0711aff252de",
   "metadata": {},
   "source": [
    "### Q 5 Write a program that can convert a 2D list to 1D list"
   ]
  },
  {
   "cell_type": "code",
   "execution_count": 48,
   "id": "c1c3961f-4372-4ca6-a4cd-c0fffd0239fe",
   "metadata": {},
   "outputs": [
    {
     "name": "stdout",
     "output_type": "stream",
     "text": [
      "initial list  [[1, 2, 3], [3, 6, 7], [7, 5, 4]]\n",
      "final_result [1, 2, 3, 3, 6, 7, 7, 5, 4]\n"
     ]
    }
   ],
   "source": [
    "from itertools import chain\n",
    " \n",
    "ini_list = [[1, 2, 3],\n",
    "            [3, 6, 7],\n",
    "            [7, 5, 4]]\n",
    "             \n",
    "print (\"initial list \", str(ini_list))\n",
    " \n",
    "flatten_list = [j for sub in ini_list for j in sub]\n",
    " \n",
    "print (\"final_result\", str(flatten_list))"
   ]
  },
  {
   "cell_type": "markdown",
   "id": "4a73bbcc-6d81-4dfc-9ca7-bfc71633e5f8",
   "metadata": {},
   "source": [
    "### Q 6  Write a program to remove duplicate items from a list\n",
    "L = [1,2,1,2,3,4,5,3,4]\n"
   ]
  },
  {
   "cell_type": "code",
   "execution_count": 52,
   "id": "035cd9d5-ec7c-470c-8fe4-dc3be7d9d637",
   "metadata": {},
   "outputs": [
    {
     "name": "stdout",
     "output_type": "stream",
     "text": [
      "[1, 2, 3, 4, 5]\n"
     ]
    }
   ],
   "source": [
    "L=[1,2,1,2,3,4,5,3,4]\n",
    "mylist=[L[i]for i in range(len(L)) if L.index(L[i]) == i]\n",
    "print(mylist)"
   ]
  },
  {
   "cell_type": "markdown",
   "id": "7df230b2-ae05-4f71-8730-e076e8fcd4bd",
   "metadata": {},
   "source": [
    "### Q 7  Write a program to check if a list is in ascending order or not"
   ]
  },
  {
   "cell_type": "code",
   "execution_count": 55,
   "id": "20cd5658-99cb-4252-8357-0b30318af9a0",
   "metadata": {},
   "outputs": [
    {
     "name": "stdout",
     "output_type": "stream",
     "text": [
      "Original list : [1, 4, 5, 8, 7]\n",
      "No, List is not sorted.\n"
     ]
    }
   ],
   "source": [
    "L = [1, 4, 5, 8, 7]\n",
    " \n",
    "print (\"Original list : \" + str(L))\n",
    " \n",
    "list = 0\n",
    "if(L == sorted(L)):\n",
    "    list = 1\n",
    "     \n",
    "if (list) :\n",
    "    print (\"Yes, List is sorted.\")\n",
    "else :\n",
    "    print (\"No, List is not sorted.\")"
   ]
  },
  {
   "cell_type": "code",
   "execution_count": null,
   "id": "6a474bd4-4213-4d90-aaa4-eefa1104de22",
   "metadata": {},
   "outputs": [],
   "source": []
  }
 ],
 "metadata": {
  "kernelspec": {
   "display_name": "Python 3 (ipykernel)",
   "language": "python",
   "name": "python3"
  },
  "language_info": {
   "codemirror_mode": {
    "name": "ipython",
    "version": 3
   },
   "file_extension": ".py",
   "mimetype": "text/x-python",
   "name": "python",
   "nbconvert_exporter": "python",
   "pygments_lexer": "ipython3",
   "version": "3.11.7"
  }
 },
 "nbformat": 4,
 "nbformat_minor": 5
}
