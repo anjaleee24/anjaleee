{
 "cells": [
  {
   "cell_type": "code",
   "execution_count": 1,
   "id": "19846c20-1059-499a-afa9-50b64d41638a",
   "metadata": {},
   "outputs": [
    {
     "name": "stdin",
     "output_type": "stream",
     "text": [
      "Enter your annual CTC (in Lakhs):  210\n"
     ]
    },
    {
     "name": "stdout",
     "output_type": "stream",
     "text": [
      "Your monthly salary after deductions is: 10.04 Lakhs\n"
     ]
    }
   ],
   "source": [
    " # \"\"\"Problem 1: Write a program that will give you in hand monthly salary after deduction on CTC - HRA(10%), DA(5%), PF(3%) and taxes deduction as below:\n",
    "# Salary(Lakhs) : Tax(%)\n",
    "\n",
    " # Below 5 : 0%\n",
    "# 5-10 : 10%\n",
    "# 10-20 : 20%\n",
    "# aboove 20 : 30%\"\"\"\n",
    "\n",
    "def calculate_monthly_salary(ctc):\n",
    "    \n",
    "    hra_deduction = 0.1 * ctc\n",
    "    da_deduction = 0.05 * ctc\n",
    "    pf_deduction = 0.03 * ctc\n",
    "    total_deduction = hra_deduction + da_deduction + pf_deduction\n",
    "    \n",
    "\n",
    "    taxable_income = ctc - total_deduction\n",
    "    \n",
    "    if ctc <= 5:\n",
    "        tax_percentage = 0\n",
    "    elif ctc <= 10:\n",
    "        tax_percentage = 0.1\n",
    "    elif ctc <= 20:\n",
    "        tax_percentage = 0.2\n",
    "    else:\n",
    "        tax_percentage = 0.3\n",
    "    \n",
    "    tax_deduction = tax_percentage * taxable_income\n",
    "    \n",
    "    \n",
    "    annual_salary_after_tax = taxable_income - tax_deduction\n",
    "    monthly_salary_after_tax = annual_salary_after_tax / 12\n",
    "    \n",
    "    return monthly_salary_after_tax\n",
    "\n",
    "ctc = float(input(\"Enter your annual CTC (in Lakhs): \"))\n",
    "monthly_salary = calculate_monthly_salary(ctc)\n",
    "\n",
    "print(f\"Your monthly salary after deductions is: {monthly_salary:.2f} Lakhs\")\n"
   ]
  },
  {
   "cell_type": "code",
   "execution_count": 7,
   "id": "d53a5e76-3747-4bb0-86e4-405f08f516c0",
   "metadata": {},
   "outputs": [
    {
     "name": "stdin",
     "output_type": "stream",
     "text": [
      "Enter the Triangle Side-1 : 90\n",
      "Enter the Triangle Side-2 : 45\n",
      "Enter the Triangle Side-3 : 45\n"
     ]
    },
    {
     "name": "stdout",
     "output_type": "stream",
     "text": [
      "Triangle Valid..\n"
     ]
    }
   ],
   "source": [
    "# Problem 2: Write a program that take a user input of three angles and will find out whether it can form a triangle or not.\n",
    "s1 = int(input(\"Enter the Triangle Side-1 :\"))\n",
    "s2 = int(input(\"Enter the Triangle Side-2 :\"))\n",
    "s3 = int(input(\"Enter the Triangle Side-3 :\"))\n",
    "sum = s1+s2+s3\n",
    "if(sum==180):\n",
    "\tprint(\"Triangle Valid..\")\n",
    "else:\n",
    "\tprint(\"Triangle Not Valid..\")\n"
   ]
  },
  {
   "cell_type": "code",
   "execution_count": 9,
   "id": "7ef24bd7-920d-4ba4-8ad4-7a9eadbe8142",
   "metadata": {},
   "outputs": [
    {
     "name": "stdin",
     "output_type": "stream",
     "text": [
      "Enter the cost Price of an Item : 70\n",
      "Enter the Selling Price of an Item : 20\n"
     ]
    },
    {
     "name": "stdout",
     "output_type": "stream",
     "text": [
      "Loss : 50.0\n"
     ]
    }
   ],
   "source": [
    "# Problem 3: Write a program that will take user input of cost price and selling price and determines whether its a loss or a profit.\n",
    "\n",
    "cp=float(input(\"Enter the cost Price of an Item :\"))\n",
    "sp=float(input(\"Enter the Selling Price of an Item :\"))\n",
    "if(sp > cp):\n",
    "    profit = sp - cp\n",
    "    print(\"Profit :\",profit)\n",
    "elif( cp> sp):\n",
    "\tloss = cp - sp\n",
    "\tprint(\"Loss :\",loss)\n",
    "else:\n",
    "\tprint(\"No Profit No Loss\")"
   ]
  },
  {
   "cell_type": "code",
   "execution_count": 11,
   "id": "c23b4ac9-ac05-4fb3-be46-b4cba40525fc",
   "metadata": {},
   "outputs": [
    {
     "name": "stdin",
     "output_type": "stream",
     "text": [
      "Enter e number 1\n",
      "enter the your cm value 20\n"
     ]
    },
    {
     "name": "stdout",
     "output_type": "stream",
     "text": [
      "ft value is 0.656\n"
     ]
    }
   ],
   "source": [
    " # \"\"\"Problem 4: Write a menu-driven program -\n",
    "# cm to ft\n",
    "# km to miles\n",
    "# USD to INR\n",
    "# exit\"\"\"\n",
    "\n",
    "\n",
    "menu=int(input(\"Enter e number\"))\n",
    "\n",
    "if menu==1:\n",
    "    cm=float(input(\"enter the your cm value\"))\n",
    "    print(\"ft value is\", 0.03280*cm)\n",
    "\n",
    "elif menu==2: \n",
    "    km=eval(input(\"enter your km value\")) \n",
    "    print(\"mile value is \",0.62 *km)\n",
    "\n",
    "elif menu==3:\n",
    "\n",
    "    usd=eval(input(\"enter your usd value\")) \n",
    "    print(\"INR value is \",83.35*usd)\n",
    "\n",
    "else:\n",
    "\n",
    "    print(\"invalid input\")    "
   ]
  },
  {
   "cell_type": "code",
   "execution_count": 13,
   "id": "67495458-2e0d-41a6-bad7-058392139514",
   "metadata": {},
   "outputs": [
    {
     "name": "stdout",
     "output_type": "stream",
     "text": [
      "Fibonacci Series up to 10 terms:\n",
      "[0, 1, 1, 2, 3, 5, 8, 13, 21, 34]\n"
     ]
    }
   ],
   "source": [
    "# Problem 5 - Exercise 12: Display Fibonacci series up to 10 terms.\n",
    "\n",
    "\n",
    "def fibonacci_series(n):\n",
    "    \n",
    "    fib_series = [0, 1]\n",
    "\n",
    "    \n",
    "    for i in range(2, n):\n",
    "        next_term = fib_series[-1] + fib_series[-2]\n",
    "        fib_series.append(next_term)\n",
    "\n",
    "    return fib_series\n",
    "\n",
    "\n",
    "def main():\n",
    "    n = 10\n",
    "    fib_series = fibonacci_series(n)\n",
    "\n",
    "    \n",
    "    print(\"Fibonacci Series up to\", n, \"terms:\")\n",
    "    print(fib_series)\n",
    "\n",
    "\n",
    "if __name__ == \"__main__\":\n",
    "    main()\n"
   ]
  },
  {
   "cell_type": "code",
   "execution_count": 15,
   "id": "789f5d20-e628-408f-8624-e73e2ef8355d",
   "metadata": {},
   "outputs": [
    {
     "name": "stdin",
     "output_type": "stream",
     "text": [
      "enter the number 10\n"
     ]
    },
    {
     "name": "stdout",
     "output_type": "stream",
     "text": [
      "1\n",
      "2\n",
      "6\n",
      "24\n",
      "120\n",
      "720\n",
      "5040\n",
      "40320\n",
      "362880\n",
      "3628800\n"
     ]
    }
   ],
   "source": [
    "# Problem 6 - Find the factorial of a given number.\n",
    "n=int(input(\"enter the number\"))\n",
    "fact=1\n",
    "for i in range(1,n+1):\n",
    "    fact=fact*i\n",
    "    print(fact)"
   ]
  },
  {
   "cell_type": "code",
   "execution_count": 19,
   "id": "36f5c434-fd9c-413d-a02d-204de80d8348",
   "metadata": {},
   "outputs": [
    {
     "name": "stdin",
     "output_type": "stream",
     "text": [
      "Enter the first number: 789\n"
     ]
    },
    {
     "name": "stdout",
     "output_type": "stream",
     "text": [
      "The reverse number is = 987\n"
     ]
    }
   ],
   "source": [
    "# Reverse a given integer number.\n",
    "\n",
    "\n",
    "num = input(\"Enter the first number:\")\n",
    "\n",
    "\n",
    "reverse = ''\n",
    "for i in range(len(num), 0, -1):\n",
    "   reverse += num[i-1]\n",
    "\n",
    "\n",
    "print('The reverse number is =', reverse)"
   ]
  },
  {
   "cell_type": "code",
   "execution_count": null,
   "id": "7f2c06ed-34fc-45e0-8741-ef413034272f",
   "metadata": {},
   "outputs": [],
   "source": [
    "\"\"\"Take a user input as integer N. Find out the sum from 1 to N. If any number if divisible by 5, then skip that number. And if the sum\n",
    "is greater than 300, don't need to calculate the sum further more. Print the final result. And don't use for loop to solve this problem.\"\"\"\n",
    "\n",
    "\n",
    "\n",
    "N = int(input(\"Enter a number: \"))\n",
    "\n",
    "sum = 0\n",
    "i = 1\n",
    "\n",
    "while i <= N:\n",
    "  if i % 5 == 0:\n",
    "    i += 1\n",
    "    continue\n",
    "   \n",
    "  sum += i\n",
    "   \n",
    "  if sum > 300:\n",
    "    break\n",
    "   \n",
    "  i += 1\n",
    "\n",
    "print(\"Final result:\", sum)"
   ]
  },
  {
   "cell_type": "code",
   "execution_count": null,
   "id": "d167977b-7686-4102-86ef-18312efaee7c",
   "metadata": {},
   "outputs": [],
   "source": []
  }
 ],
 "metadata": {
  "kernelspec": {
   "display_name": "Python 3 (ipykernel)",
   "language": "python",
   "name": "python3"
  },
  "language_info": {
   "codemirror_mode": {
    "name": "ipython",
    "version": 3
   },
   "file_extension": ".py",
   "mimetype": "text/x-python",
   "name": "python",
   "nbconvert_exporter": "python",
   "pygments_lexer": "ipython3",
   "version": "3.11.7"
  }
 },
 "nbformat": 4,
 "nbformat_minor": 5
}
